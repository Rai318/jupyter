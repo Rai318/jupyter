{
 "cells": [
  {
   "cell_type": "markdown",
   "id": "c752d899-8209-4c67-b48e-03a457f9a915",
   "metadata": {},
   "source": [
    "<h1>\"My Jupyter Notebook on IBM Watson Studio\"</h1>"
   ]
  },
  {
   "cell_type": "markdown",
   "id": "583cc03f-b176-4708-b00a-38ce7cc08b89",
   "metadata": {},
   "source": [
    "**Rachel Delsignore**\n",
    "\n",
    "Data Scientist"
   ]
  },
  {
   "cell_type": "markdown",
   "id": "f73cfff6-6191-4faf-8a2a-f22b34316b37",
   "metadata": {},
   "source": [
    "_I am interested in data science because I desire to be involved in shifting the way we make decisions in our world today, and create opportunities where we were previously unable to find them_"
   ]
  },
  {
   "cell_type": "markdown",
   "id": "18fd96c9-0759-4b9c-aa31-c6e373e3356b",
   "metadata": {},
   "source": [
    "<h3>the following coder will render a solution to a simple mathematical equation</h3>"
   ]
  },
  {
   "cell_type": "code",
   "execution_count": 5,
   "id": "1425929e-eb47-45e1-b598-dc5b4c81386f",
   "metadata": {},
   "outputs": [
    {
     "data": {
      "text/plain": [
       "2"
      ]
     },
     "execution_count": 5,
     "metadata": {},
     "output_type": "execute_result"
    }
   ],
   "source": [
    "1+1"
   ]
  },
  {
   "cell_type": "markdown",
   "id": "9ce9fede-d32c-4485-b952-55e226e6cc82",
   "metadata": {},
   "source": [
    "~~strike~~ \n",
    "| name | height | weight |\n",
    "| --- | --- | --- |\n",
    "| Alice | 5.2 | 111 |\n",
    "| Jerry | 6 | 170 |\n",
    "\n",
    "<ol>\n",
    "    <li>girl</li>\n",
    "    <li>boy</li>"
   ]
  },
  {
   "cell_type": "code",
   "execution_count": null,
   "id": "fd190223-6b45-416e-920a-a819f691d7a3",
   "metadata": {},
   "outputs": [],
   "source": []
  }
 ],
 "metadata": {
  "kernelspec": {
   "display_name": "Python",
   "language": "python",
   "name": "conda-env-python-py"
  },
  "language_info": {
   "codemirror_mode": {
    "name": "ipython",
    "version": 3
   },
   "file_extension": ".py",
   "mimetype": "text/x-python",
   "name": "python",
   "nbconvert_exporter": "python",
   "pygments_lexer": "ipython3",
   "version": "3.7.12"
  }
 },
 "nbformat": 4,
 "nbformat_minor": 5
}
